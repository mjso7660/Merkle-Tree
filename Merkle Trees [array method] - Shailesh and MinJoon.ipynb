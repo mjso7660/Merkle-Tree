{
 "cells": [
  {
   "cell_type": "markdown",
   "metadata": {},
   "source": [
    "# Merkle Trees [array method]\n",
    "#### Authors: Shailesh Patro & MinJoon So\n",
    "#### The merkle tree functions detailed below take only an array of sorted unique transactions as input. A standard sort function may be utilized i.e list.sort() or sorted() to sort the array\n",
    "\n",
    "#### Time complexity for these functions are believed to be all in the order of best case: O(log_2_(n))"
   ]
  },
  {
   "cell_type": "code",
   "execution_count": 13,
   "metadata": {
    "collapsed": true
   },
   "outputs": [],
   "source": [
    "from hashlib import sha256 "
   ]
  },
  {
   "cell_type": "markdown",
   "metadata": {},
   "source": [
    "#### initiate a lambda function to hash elements in x using sha256"
   ]
  },
  {
   "cell_type": "code",
   "execution_count": 14,
   "metadata": {
    "collapsed": true
   },
   "outputs": [],
   "source": [
    "H = lambda *x: sha256((''.join([str(X) for X in x])).encode('utf-8')).hexdigest()"
   ]
  },
  {
   "cell_type": "markdown",
   "metadata": {},
   "source": [
    "#### Pseudocode/discussion of steps for creating a merkle tree\n",
    "- Takes in array of transactions\n",
    "- Run a loop so that all leafs/ transactions are initially hashed and put that in an array\n",
    "- Then run a loop so that every two hashed element in the array is hashed again\n",
    "- This loop should run until there is one hash (top hash) in the array\n",
    "- Result should be an array of arrays consisting of hashed elements"
   ]
  },
  {
   "cell_type": "code",
   "execution_count": 15,
   "metadata": {
    "collapsed": true
   },
   "outputs": [],
   "source": [
    "#create a merkle tree given an array of inputs\n",
    "def createMT(inputs):\n",
    "    # hash all the inputs/transaction \n",
    "    transactions = inputs\n",
    "    tree = [inputs, [H(x) for x in inputs]]\n",
    "    # run a while loop until the length of the last element/array is 1 string long\n",
    "    while len(tree[-1]) != 1:\n",
    "        # initiate an iterator to move through every string in the last element/array\n",
    "        it = iter(tree[-1])  \n",
    "        # append the current string of the iterator with next one and store it in an array\n",
    "        tree.append([H(input, next(it, input)) for input in it])\n",
    "    return tree"
   ]
  },
  {
   "cell_type": "markdown",
   "metadata": {},
   "source": [
    "#### Pseudocode to verify membership & non-membership in a Merkle Tree\n",
    "\n",
    "Function: To get the path of a transaction (transaction as an input) based on the other indices of a merkle tree provided that it is a member of the initial list of transactions or verify non-membership by verifying membership of neighboring indices."
   ]
  },
  {
   "cell_type": "code",
   "execution_count": 27,
   "metadata": {
    "collapsed": true
   },
   "outputs": [],
   "source": [
    "def get_path(input, tree):\n",
    "    level = 1\n",
    "    inputindex = tree[level].index(H(input))\n",
    "    odd = inputindex % 2\n",
    "    baseindex = inputindex - odd\n",
    "    otherindex = inputindex - 1 if odd else inputindex # need to fix\n",
    "    path = [tree[level][otherindex]]\n",
    "    level += 1\n",
    "    while len(tree[level-1]) != 1:\n",
    "        baseindex = baseindex / 2\n",
    "        path += tree[level][int(baseindex):int(baseindex+2)] \n",
    "        level += 1\n",
    "    return path\n",
    "\n",
    "def membership(input, tree):\n",
    "    path = get_path(input, tree)\n",
    "    if path[-1] == get_root(tree):\n",
    "        return True\n",
    "    else:\n",
    "        return False\n",
    "    \n",
    "def verifymembership(input, tree):\n",
    "    if input in tree[0]:\n",
    "        if membership(input, tree) == True:\n",
    "            print('\\nMembership of', input, 'in', get_root(tree), 'is verified')\n",
    "        else:\n",
    "            print('\\nMembership of', input, 'in', get_root(tree), 'cannot be verified')\n",
    "    elif input not in tree[0]:\n",
    "        idx = islessthan(input,tree)\n",
    "        lowerval = tree[0][idx]\n",
    "        upperval = tree[0][idx-1]\n",
    "        if (membership(lowerval, tree) and membership(upperval, tree)) == True:\n",
    "            print('\\nNon-membership', input ,'in', get_root(tree), 'is verified')\n",
    "        else:\n",
    "            print('then', input, 'non-membership cannot be confirmed')\n",
    "    return 0\n",
    "def islessthan(input,tree):\n",
    "    for i in range(len(tree[0])):\n",
    "        if input <tree[0][i]:\n",
    "            return i\n"
   ]
  },
  {
   "cell_type": "code",
   "execution_count": 17,
   "metadata": {
    "collapsed": true
   },
   "outputs": [],
   "source": [
    "def get_root(tree):\n",
    "    top = len(tree)\n",
    "    tophash = ''.join(tree[top-1])\n",
    "    return tophash\n",
    "\n",
    "def compare_root(tree1, tree2):\n",
    "    if get_root(tree1) == get_root(tree2):\n",
    "        print(\"\\nThe transactions are the same and in the same order\")\n",
    "    else:\n",
    "        print(\"\\nThe transactions are either different or are in different order\")"
   ]
  },
  {
   "cell_type": "code",
   "execution_count": 34,
   "metadata": {},
   "outputs": [
    {
     "name": "stdout",
     "output_type": "stream",
     "text": [
      "Tree1:\n",
      " [['a'], ['ca978112ca1bbdcafac231b39a23dc4da786eff8147c4e72b9807785afee48bb']]\n",
      "\n",
      "Height of Tree1 (including root level): 2\n",
      "\n",
      "root of Tree1: ca978112ca1bbdcafac231b39a23dc4da786eff8147c4e72b9807785afee48bb\n",
      "\n",
      " leaves of treeone: ['a'] \n",
      " hashed leaves of treeone:\n",
      " ['ca978112ca1bbdcafac231b39a23dc4da786eff8147c4e72b9807785afee48bb']\n",
      "\n",
      "Path of a in tree1:\n",
      " ['ca978112ca1bbdcafac231b39a23dc4da786eff8147c4e72b9807785afee48bb']\n",
      "\n",
      "Membership of a in ca978112ca1bbdcafac231b39a23dc4da786eff8147c4e72b9807785afee48bb is verified\n"
     ]
    },
    {
     "ename": "TypeError",
     "evalue": "list indices must be integers or slices, not NoneType",
     "output_type": "error",
     "traceback": [
      "\u001b[1;31m---------------------------------------------------------------------------\u001b[0m",
      "\u001b[1;31mTypeError\u001b[0m                                 Traceback (most recent call last)",
      "\u001b[1;32m<ipython-input-34-baeaab064f3d>\u001b[0m in \u001b[0;36m<module>\u001b[1;34m()\u001b[0m\n\u001b[0;32m     14\u001b[0m \u001b[1;33m\u001b[0m\u001b[0m\n\u001b[0;32m     15\u001b[0m     \u001b[0mverifymembership\u001b[0m\u001b[1;33m(\u001b[0m\u001b[1;34m'a'\u001b[0m\u001b[1;33m,\u001b[0m \u001b[0mtreeone\u001b[0m\u001b[1;33m)\u001b[0m\u001b[1;33m\u001b[0m\u001b[0m\n\u001b[1;32m---> 16\u001b[1;33m     \u001b[0mverifymembership\u001b[0m\u001b[1;33m(\u001b[0m\u001b[1;34m'd'\u001b[0m\u001b[1;33m,\u001b[0m \u001b[0mtreeone\u001b[0m\u001b[1;33m)\u001b[0m\u001b[1;33m\u001b[0m\u001b[0m\n\u001b[0m\u001b[0;32m     17\u001b[0m \u001b[1;33m\u001b[0m\u001b[0m\n\u001b[0;32m     18\u001b[0m     \u001b[0mtransaction2\u001b[0m \u001b[1;33m=\u001b[0m \u001b[1;33m[\u001b[0m\u001b[1;34m'd'\u001b[0m\u001b[1;33m,\u001b[0m\u001b[1;34m'c'\u001b[0m\u001b[1;33m,\u001b[0m\u001b[1;34m'b'\u001b[0m\u001b[1;33m,\u001b[0m\u001b[1;34m'a'\u001b[0m\u001b[1;33m]\u001b[0m\u001b[1;33m\u001b[0m\u001b[0m\n",
      "\u001b[1;32m<ipython-input-31-fde476030933>\u001b[0m in \u001b[0;36mverifymembership\u001b[1;34m(input, tree)\u001b[0m\n\u001b[0;32m     28\u001b[0m     \u001b[1;32melif\u001b[0m \u001b[0minput\u001b[0m \u001b[1;32mnot\u001b[0m \u001b[1;32min\u001b[0m \u001b[0mtree\u001b[0m\u001b[1;33m[\u001b[0m\u001b[1;36m0\u001b[0m\u001b[1;33m]\u001b[0m\u001b[1;33m:\u001b[0m\u001b[1;33m\u001b[0m\u001b[0m\n\u001b[0;32m     29\u001b[0m         \u001b[0midx\u001b[0m \u001b[1;33m=\u001b[0m \u001b[0mislessthan\u001b[0m\u001b[1;33m(\u001b[0m\u001b[0minput\u001b[0m\u001b[1;33m,\u001b[0m\u001b[0mtree\u001b[0m\u001b[1;33m)\u001b[0m\u001b[1;33m\u001b[0m\u001b[0m\n\u001b[1;32m---> 30\u001b[1;33m         \u001b[0mlowerval\u001b[0m \u001b[1;33m=\u001b[0m \u001b[0mtree\u001b[0m\u001b[1;33m[\u001b[0m\u001b[1;36m0\u001b[0m\u001b[1;33m]\u001b[0m\u001b[1;33m[\u001b[0m\u001b[0midx\u001b[0m\u001b[1;33m]\u001b[0m\u001b[1;33m\u001b[0m\u001b[0m\n\u001b[0m\u001b[0;32m     31\u001b[0m         \u001b[0mupperval\u001b[0m \u001b[1;33m=\u001b[0m \u001b[0mtree\u001b[0m\u001b[1;33m[\u001b[0m\u001b[1;36m0\u001b[0m\u001b[1;33m]\u001b[0m\u001b[1;33m[\u001b[0m\u001b[0midx\u001b[0m\u001b[1;33m-\u001b[0m\u001b[1;36m1\u001b[0m\u001b[1;33m]\u001b[0m\u001b[1;33m\u001b[0m\u001b[0m\n\u001b[0;32m     32\u001b[0m         \u001b[1;32mif\u001b[0m \u001b[1;33m(\u001b[0m\u001b[0mmembership\u001b[0m\u001b[1;33m(\u001b[0m\u001b[0mlowerval\u001b[0m\u001b[1;33m,\u001b[0m \u001b[0mtree\u001b[0m\u001b[1;33m)\u001b[0m \u001b[1;32mand\u001b[0m \u001b[0mmembership\u001b[0m\u001b[1;33m(\u001b[0m\u001b[0mupperval\u001b[0m\u001b[1;33m,\u001b[0m \u001b[0mtree\u001b[0m\u001b[1;33m)\u001b[0m\u001b[1;33m)\u001b[0m \u001b[1;33m==\u001b[0m \u001b[1;32mTrue\u001b[0m\u001b[1;33m:\u001b[0m\u001b[1;33m\u001b[0m\u001b[0m\n",
      "\u001b[1;31mTypeError\u001b[0m: list indices must be integers or slices, not NoneType"
     ]
    }
   ],
   "source": [
    "if __name__ == \"__main__\":\n",
    "    #transaction1= [1,2,3,4,8]\n",
    "    transaction1 = ['a','b','c','e']\n",
    "    # transaction1 = ['a','b','c','d','ab','bb','cb','db','abb','ac','bc','cc','dc','abc','bbc','cbc','dbc','abbc']\n",
    "    treeone = createMT(transaction1)\n",
    "    \n",
    "    print (\"Tree1:\\n\", treeone)\n",
    "    print (\"\\nHeight of Tree1 (including root level):\", len(treeone)) # including tophash level\n",
    "    root1 = get_root(treeone) \n",
    "    print (\"\\nroot of Tree1:\", root1)\n",
    "    print('\\n leaves of treeone:',treeone[0],'\\n hashed leaves of treeone:\\n',treeone[1])\n",
    "    path = get_path('a', treeone) \n",
    "    print('\\nPath of a in tree1:\\n', path)\n",
    "    \n",
    "    verifymembership('c', treeone)\n",
    "    verifymembership('d', treeone)\n",
    "    \n",
    "    transaction2 = ['d','c','b','a']\n",
    "    treetwo = createMT (transaction2)\n",
    "    \n",
    "    transaction3 = ['d','c','b','a']\n",
    "    treethree = createMT (transaction3)\n",
    "    \n",
    "    compare_root(treeone, treetwo)\n",
    "    \n",
    "    compare_root(treetwo, treethree)\n",
    "    \n",
    "   "
   ]
  },
  {
   "cell_type": "markdown",
   "metadata": {},
   "source": [
    "### Testing lambda and the iter protocol\n",
    "Iterator Protocol: https://www.programiz.com/python-programming/iterator\n",
    "\n",
    "lambda: https://www.programiz.com/python-programming/anonymous-function"
   ]
  },
  {
   "cell_type": "code",
   "execution_count": 19,
   "metadata": {},
   "outputs": [
    {
     "name": "stdout",
     "output_type": "stream",
     "text": [
      "[2, 4, 6, 8, [(2, 4, 2, 4), (6, 8, 6, 8)]]\n"
     ]
    }
   ],
   "source": [
    "double = lambda x: x * 2\n",
    "def check(inputs):\n",
    "    tree = [double(x) for x in inputs]\n",
    "    it = iter(tree)          \n",
    "    tree.append([double((input, next(it, input))) for input in it])\n",
    "    return tree\n",
    "if __name__ == \"__main__\":\n",
    "    inputs = [1,2,3,4]\n",
    "    print(check(inputs))"
   ]
  }
 ],
 "metadata": {
  "kernelspec": {
   "display_name": "Python 3",
   "language": "python",
   "name": "python3"
  },
  "language_info": {
   "codemirror_mode": {
    "name": "ipython",
    "version": 3
   },
   "file_extension": ".py",
   "mimetype": "text/x-python",
   "name": "python",
   "nbconvert_exporter": "python",
   "pygments_lexer": "ipython3",
   "version": "3.6.3"
  }
 },
 "nbformat": 4,
 "nbformat_minor": 2
}
